{
 "cells": [
  {
   "cell_type": "code",
   "execution_count": 7,
   "id": "b7cb5d44",
   "metadata": {},
   "outputs": [
    {
     "name": "stdout",
     "output_type": "stream",
     "text": [
      "Requirement already satisfied: yfinance in c:\\users\\wynna\\anaconda3\\lib\\site-packages (0.1.60)\n",
      "Requirement already satisfied: lxml>=4.5.1 in c:\\users\\wynna\\anaconda3\\lib\\site-packages (from yfinance) (4.6.3)\n",
      "Requirement already satisfied: numpy>=1.15 in c:\\users\\wynna\\anaconda3\\lib\\site-packages (from yfinance) (1.20.1)\n",
      "Requirement already satisfied: requests>=2.20 in c:\\users\\wynna\\anaconda3\\lib\\site-packages (from yfinance) (2.25.1)\n",
      "Requirement already satisfied: pandas>=0.24 in c:\\users\\wynna\\anaconda3\\lib\\site-packages (from yfinance) (1.2.4)\n",
      "Requirement already satisfied: multitasking>=0.0.7 in c:\\users\\wynna\\anaconda3\\lib\\site-packages (from yfinance) (0.0.9)\n",
      "Requirement already satisfied: python-dateutil>=2.7.3 in c:\\users\\wynna\\anaconda3\\lib\\site-packages (from pandas>=0.24->yfinance) (2.8.1)\n",
      "Requirement already satisfied: pytz>=2017.3 in c:\\users\\wynna\\anaconda3\\lib\\site-packages (from pandas>=0.24->yfinance) (2021.1)\n",
      "Requirement already satisfied: six>=1.5 in c:\\users\\wynna\\anaconda3\\lib\\site-packages (from python-dateutil>=2.7.3->pandas>=0.24->yfinance) (1.15.0)\n",
      "Requirement already satisfied: certifi>=2017.4.17 in c:\\users\\wynna\\anaconda3\\lib\\site-packages (from requests>=2.20->yfinance) (2020.12.5)\n",
      "Requirement already satisfied: chardet<5,>=3.0.2 in c:\\users\\wynna\\anaconda3\\lib\\site-packages (from requests>=2.20->yfinance) (4.0.0)\n",
      "Requirement already satisfied: urllib3<1.27,>=1.21.1 in c:\\users\\wynna\\anaconda3\\lib\\site-packages (from requests>=2.20->yfinance) (1.26.4)\n",
      "Requirement already satisfied: idna<3,>=2.5 in c:\\users\\wynna\\anaconda3\\lib\\site-packages (from requests>=2.20->yfinance) (2.10)\n",
      "Collecting ta\n",
      "  Downloading ta-0.7.0.tar.gz (25 kB)\n",
      "Requirement already satisfied: numpy in c:\\users\\wynna\\anaconda3\\lib\\site-packages (from ta) (1.20.1)\n",
      "Requirement already satisfied: pandas in c:\\users\\wynna\\anaconda3\\lib\\site-packages (from ta) (1.2.4)\n",
      "Requirement already satisfied: python-dateutil>=2.7.3 in c:\\users\\wynna\\anaconda3\\lib\\site-packages (from pandas->ta) (2.8.1)\n",
      "Requirement already satisfied: pytz>=2017.3 in c:\\users\\wynna\\anaconda3\\lib\\site-packages (from pandas->ta) (2021.1)\n",
      "Requirement already satisfied: six>=1.5 in c:\\users\\wynna\\anaconda3\\lib\\site-packages (from python-dateutil>=2.7.3->pandas->ta) (1.15.0)\n",
      "Building wheels for collected packages: ta\n",
      "  Building wheel for ta (setup.py): started\n",
      "  Building wheel for ta (setup.py): finished with status 'done'\n",
      "  Created wheel for ta: filename=ta-0.7.0-py3-none-any.whl size=28718 sha256=4ad2b7ef8ddb6002ff672fc758f5a5e09798aa8b588e629eaec0eec13633e01b\n",
      "  Stored in directory: c:\\users\\wynna\\appdata\\local\\pip\\cache\\wheels\\bb\\7c\\a0\\9c72e50ddef1f7c3d9003bf4ccc5d5c8deb24828d4eb156fc8\n",
      "Successfully built ta\n",
      "Installing collected packages: ta\n",
      "Successfully installed ta-0.7.0\n"
     ]
    }
   ],
   "source": [
    "# Getting data from Yahoo Finance API (yfinance)\n",
    "import sys\n",
    "!{sys.executable} -m pip install yfinance\n",
    "# technical analysis\n",
    "!{sys.executable} -m pip install ta "
   ]
  },
  {
   "cell_type": "code",
   "execution_count": 4,
   "id": "f53abb33",
   "metadata": {},
   "outputs": [
    {
     "name": "stdout",
     "output_type": "stream",
     "text": [
      "(1762, 7)\n"
     ]
    },
    {
     "data": {
      "text/html": [
       "<div>\n",
       "<style scoped>\n",
       "    .dataframe tbody tr th:only-of-type {\n",
       "        vertical-align: middle;\n",
       "    }\n",
       "\n",
       "    .dataframe tbody tr th {\n",
       "        vertical-align: top;\n",
       "    }\n",
       "\n",
       "    .dataframe thead th {\n",
       "        text-align: right;\n",
       "    }\n",
       "</style>\n",
       "<table border=\"1\" class=\"dataframe\">\n",
       "  <thead>\n",
       "    <tr style=\"text-align: right;\">\n",
       "      <th></th>\n",
       "      <th>Open</th>\n",
       "      <th>High</th>\n",
       "      <th>Low</th>\n",
       "      <th>Close</th>\n",
       "      <th>Volume</th>\n",
       "      <th>Dividends</th>\n",
       "      <th>Stock Splits</th>\n",
       "    </tr>\n",
       "    <tr>\n",
       "      <th>Date</th>\n",
       "      <th></th>\n",
       "      <th></th>\n",
       "      <th></th>\n",
       "      <th></th>\n",
       "      <th></th>\n",
       "      <th></th>\n",
       "      <th></th>\n",
       "    </tr>\n",
       "  </thead>\n",
       "  <tbody>\n",
       "    <tr>\n",
       "      <th>2013-01-02</th>\n",
       "      <td>256.079987</td>\n",
       "      <td>258.100006</td>\n",
       "      <td>253.259995</td>\n",
       "      <td>257.309998</td>\n",
       "      <td>3271000</td>\n",
       "      <td>0</td>\n",
       "      <td>0</td>\n",
       "    </tr>\n",
       "    <tr>\n",
       "      <th>2013-01-03</th>\n",
       "      <td>257.269989</td>\n",
       "      <td>260.880005</td>\n",
       "      <td>256.369995</td>\n",
       "      <td>258.480011</td>\n",
       "      <td>2750900</td>\n",
       "      <td>0</td>\n",
       "      <td>0</td>\n",
       "    </tr>\n",
       "    <tr>\n",
       "      <th>2013-01-04</th>\n",
       "      <td>257.579987</td>\n",
       "      <td>259.799988</td>\n",
       "      <td>256.649994</td>\n",
       "      <td>259.149994</td>\n",
       "      <td>1874200</td>\n",
       "      <td>0</td>\n",
       "      <td>0</td>\n",
       "    </tr>\n",
       "    <tr>\n",
       "      <th>2013-01-07</th>\n",
       "      <td>262.970001</td>\n",
       "      <td>269.730011</td>\n",
       "      <td>262.670013</td>\n",
       "      <td>268.459991</td>\n",
       "      <td>4910000</td>\n",
       "      <td>0</td>\n",
       "      <td>0</td>\n",
       "    </tr>\n",
       "    <tr>\n",
       "      <th>2013-01-08</th>\n",
       "      <td>267.070007</td>\n",
       "      <td>268.980011</td>\n",
       "      <td>263.570007</td>\n",
       "      <td>266.380005</td>\n",
       "      <td>3010700</td>\n",
       "      <td>0</td>\n",
       "      <td>0</td>\n",
       "    </tr>\n",
       "  </tbody>\n",
       "</table>\n",
       "</div>"
      ],
      "text/plain": [
       "                  Open        High         Low       Close   Volume  \\\n",
       "Date                                                                  \n",
       "2013-01-02  256.079987  258.100006  253.259995  257.309998  3271000   \n",
       "2013-01-03  257.269989  260.880005  256.369995  258.480011  2750900   \n",
       "2013-01-04  257.579987  259.799988  256.649994  259.149994  1874200   \n",
       "2013-01-07  262.970001  269.730011  262.670013  268.459991  4910000   \n",
       "2013-01-08  267.070007  268.980011  263.570007  266.380005  3010700   \n",
       "\n",
       "            Dividends  Stock Splits  \n",
       "Date                                 \n",
       "2013-01-02          0             0  \n",
       "2013-01-03          0             0  \n",
       "2013-01-04          0             0  \n",
       "2013-01-07          0             0  \n",
       "2013-01-08          0             0  "
      ]
     },
     "execution_count": 4,
     "metadata": {},
     "output_type": "execute_result"
    }
   ],
   "source": [
    "import yfinance as yf\n",
    "tickerSymbol = 'AMZN'\n",
    "\n",
    "# Dates - excluding COVID because that was a significant irregularity\n",
    "startDate = '2013-01-01'\n",
    "endDate = '2020-01-01'\n",
    "\n",
    "# Get the ticker data - updated daily (one row per day)\n",
    "tickerData = yf.Ticker(tickerSymbol)\n",
    "df = tickerData.history(start=startDate, end=endDate)\n",
    "print(df.shape)\n",
    "df.head()"
   ]
  },
  {
   "cell_type": "code",
   "execution_count": 5,
   "id": "08b51b8d",
   "metadata": {},
   "outputs": [
    {
     "name": "stdout",
     "output_type": "stream",
     "text": [
      "Date\n",
      "2013-01-02   2013-01-02\n",
      "2013-01-03   2013-01-03\n",
      "2013-01-04   2013-01-04\n",
      "2013-01-07   2013-01-07\n",
      "2013-01-08   2013-01-08\n",
      "                ...    \n",
      "2019-12-24   2019-12-24\n",
      "2019-12-26   2019-12-26\n",
      "2019-12-27   2019-12-27\n",
      "2019-12-30   2019-12-30\n",
      "2019-12-31   2019-12-31\n",
      "Name: Date, Length: 1762, dtype: datetime64[ns]\n"
     ]
    }
   ],
   "source": [
    "# Cleaning data\n",
    "import pandas as pd\n",
    "import numpy as np\n",
    "\n",
    "# The date is a string and is the ID of the dataframe\n",
    "date_change = \"%Y-%m-%d\" # year-month-day\n",
    "df['Date'] = df.index\n",
    "df['Date'] = pd.to_datetime(df['Date'], format=date_change)\n",
    "Dates = df['Date']\n",
    "print(Dates)"
   ]
  },
  {
   "cell_type": "code",
   "execution_count": null,
   "id": "5804afff",
   "metadata": {},
   "outputs": [],
   "source": []
  }
 ],
 "metadata": {
  "kernelspec": {
   "display_name": "Python 3",
   "language": "python",
   "name": "python3"
  },
  "language_info": {
   "codemirror_mode": {
    "name": "ipython",
    "version": 3
   },
   "file_extension": ".py",
   "mimetype": "text/x-python",
   "name": "python",
   "nbconvert_exporter": "python",
   "pygments_lexer": "ipython3",
   "version": "3.8.8"
  }
 },
 "nbformat": 4,
 "nbformat_minor": 5
}
